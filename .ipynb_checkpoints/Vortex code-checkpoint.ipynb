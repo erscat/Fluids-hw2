{
 "cells": [
  {
   "cell_type": "code",
   "execution_count": 1,
   "id": "c2e939f8",
   "metadata": {},
   "outputs": [],
   "source": [
    "\"\"\"\n",
    "Visualizing vortex leapfrogging\n",
    "@author : Zhongan Lin\n",
    "\"\"\"\n",
    "\n",
    "import numpy as np\n",
    "import matplotlib . pyplot as plt"
   ]
  },
  {
   "cell_type": "code",
   "execution_count": 3,
   "id": "ccff4e8a",
   "metadata": {},
   "outputs": [],
   "source": [
    "dt = 0.01\n",
    "Nsteps = 10\n",
    "k = 3\n",
    "\n",
    "# Setting up initial conditions (vortex centres and circulation) \n",
    "# Vortex rings\n",
    "y_v = np.array([1,1,-1,-1]) #Positions of vortex centers\n",
    "x_v = np.array([-1,1,-1,1])\n",
    "k_v = np.array([k,k,-k,-k]) #Circulation of vortices"
   ]
  },
  {
   "cell_type": "code",
   "execution_count": 5,
   "id": "6f9d11fb",
   "metadata": {},
   "outputs": [
    {
     "name": "stdout",
     "output_type": "stream",
     "text": [
      "(360, 360)\n"
     ]
    },
    {
     "data": {
      "image/png": "[encoded data removed]",
      "text/plain": [
       "<Figure size 432x288 with 1 Axes>"
      ]
     },
     "metadata": {
      "needs_background": "light"
     },
     "output_type": "display_data"
    }
   ],
   "source": [
    "# Setting up the plot\n",
    "plt.ion()\n",
    "fig , ax = plt.subplots(1,1)\n",
    "\n",
    "# mark the initial positions of vortices\n",
    "p, = ax.plot(x_v, y_v, 'k+', markersize=10)\n",
    "\n",
    "# play around with the marker size and type as you see fit\n",
    "# draw the initial velocity streamline\n",
    "ngrid = 10\n",
    "Y, X = np.mgrid[-ngrid:ngrid:360j, -ngrid:ngrid:360j]\n",
    "#360j sets the resolution of the cartesian grid; play around with it as you see fit\n",
    "\n",
    "vel_x = np.zeros(np.shape(Y)) #this holds x−velocity \n",
    "vel_y = np.zeros(np.shape(Y)) #this holds y−velocity\n",
    "print(vel_x.shape)\n",
    "\n",
    "# masking radius for better visualization of the vortex centres \n",
    "r_mask = 1\n",
    "# within this mask, you will not plot any streamline\n",
    "#so that you can see more clearly the movement of the vortex centres\n",
    "\n",
    "# for i in range(len(x_v)): #looping over each vortex\n",
    "#     # insert lines for computing the total velocity field\n",
    "#     # insert lines for masking (set the masking area to NaN)"
   ]
  },
  {
   "cell_type": "code",
   "execution_count": null,
   "id": "377f840e",
   "metadata": {},
   "outputs": [],
   "source": [
    "# set up the boundaries of the simulation box ax.set xlim([−ngrid, ngrid])\n",
    "ax.set ylim([−ngrid, ngrid])\n",
    "# initial plot of the streamlines \n",
    "ax.streamplot(X, Y, vel x , vel y , density=[1,1])\n",
    "# play around with density as you see fit; #see the API documentation for more detail\n",
    "fig.canvas.draw()"
   ]
  },
  {
   "cell_type": "code",
   "execution_count": null,
   "id": "a0f1eb4d",
   "metadata": {},
   "outputs": [],
   "source": [
    "# Evolution\n",
    "count = 0\n",
    "while count < Nsteps :\n",
    "    # Compute and update advection velocity \n",
    "    # insert lines to re−initialize the total velocity field\n",
    "    \n",
    "    for i in range(len(x v)):\n",
    "        # insert lines to compute the total advection velocity on each vortex\n",
    "\n",
    "    # insert lines to update the positions of\n",
    "    # insert lines to re−initialize the total velocity field\n",
    "    for i in range(len(x_v)):\n",
    "        # insert lines to update the streamlines and masking\n",
    "\n",
    "    # update plot\n",
    "    # the following two lines clear out the previous streamlines\n",
    "    ax. collections = [] \n",
    "    ax.patches = []\n",
    "\n",
    "    p.set xdata(x_v) \n",
    "    p.set ydata(y_v)\n",
    "    ax.streamplot(X, Y, vel_x , vel_y , density=[1, 1])\n",
    "    fig.canvas.draw()\n",
    "    plt.pause (0.001) #play around with the delay time for better visualization\n",
    "    count += 1"
   ]
  }
 ],
 "metadata": {
  "kernelspec": {
   "display_name": "Python 3 (ipykernel)",
   "language": "python",
   "name": "python3"
  },
  "language_info": {
   "codemirror_mode": {
    "name": "ipython",
    "version": 3
   },
   "file_extension": ".py",
   "mimetype": "text/x-python",
   "name": "python",
   "nbconvert_exporter": "python",
   "pygments_lexer": "ipython3",
   "version": "3.10.6"
  }
 },
 "nbformat": 4,
 "nbformat_minor": 5
}
